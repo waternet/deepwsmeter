{
 "cells": [
  {
   "cell_type": "markdown",
   "metadata": {},
   "source": [
    "## Waterstanden meten uit timelapse video\n",
    "\n",
    "Auteur Rob van Putten, rob.van.putten@waternet.nl, breinbaasnl@gmail.com, 18 december 2017\n",
    "\n",
    "### Probleemstelling\n",
    "\n",
    "Kunnen we aan de hand van een timelapse video de waterstanden uitlezen. Een voorbeeld van een afbeelding uit de timelapse video is \n",
    "\n",
    "![title](img/voorbeeld_img.jpg)\n",
    "\n",
    "### Werkwijze \n",
    "\n",
    "#### Stap 1 - Extraheren van de afbeeldingen uit het videobestand\n",
    "\n",
    "Om de afbeeldingen uit het video bestand te krijgen gebruiken we het volgende commanda (via de linux command line);\n",
    "\n",
    "`ffmpeg -i <videobestand> -qscale:v 2 output_%05d.jpg`\n",
    "\n",
    "Het is van belang om de parameter `qscale` mee te geven om de hoogste kwaliteit van een jpg te krijgen en daarmee geen informatie te verliezen.\n",
    "\n",
    "#### Stap 2 - Uitlezen getallen uit de individuele afbeeldingen\n",
    "\n",
    "We moeten de afbeelding roteren en daarna de individuele getallen uitlezen. Hiertoe passen we een transformatie toe en schrijven we per afbeelding alle getallen weg.\n",
    "\n",
    "Opmerkingen;\n",
    "* deze werkwijze vereist dat de locatie van de getallen per afbeelding hetzelfde blijft. Met andere woorden, als de camera verschuift werkt dit niet meer!\n",
    "* we gebruiken quick and dirty code, optimalisatie kan later wel\n",
    "* de rotatie en de locatie van de getallen na rotatie zijn bepaald met GIMP"
   ]
  },
  {
   "cell_type": "code",
   "execution_count": 1,
   "metadata": {},
   "outputs": [],
   "source": [
    "import cv2\n",
    "import imutils\n",
    "import glob"
   ]
  },
  {
   "cell_type": "code",
   "execution_count": 2,
   "metadata": {},
   "outputs": [],
   "source": [
    "OUT_DIR = 'data/getallen/'\n",
    "\n",
    "i = 1\n",
    "for f in glob.glob('data/out*.jpg'):\n",
    "    img = cv2.imread(f)\n",
    "    img = imutils.rotate(img, 134)\n",
    "    r1 = [225, 248, 623, 640] \n",
    "    r2 = [225, 248, 644, 663]\n",
    "    r3 = [224, 247, 667, 686]\n",
    "    r4 = [224, 247, 692, 709]\n",
    "    r5 = [223, 246, 714, 732]\n",
    "    r6 = [225, 246, 739, 754]\n",
    "    r7 = [224, 247, 762, 778]\n",
    "    r8 = [224, 247, 787, 802]\n",
    "    cv2.imwrite(OUT_DIR + 'getal%05d.jpg' % i, img[r1[0]:r1[1], r1[2]:r1[3]])\n",
    "    i += 1\n",
    "    cv2.imwrite(OUT_DIR + 'getal%05d.jpg' % i, img[r2[0]:r2[1], r2[2]:r2[3]])\n",
    "    i += 1\n",
    "    cv2.imwrite(OUT_DIR + 'getal%05d.jpg' % i, img[r3[0]:r3[1], r3[2]:r3[3]])\n",
    "    i += 1\n",
    "    cv2.imwrite(OUT_DIR + 'getal%05d.jpg' % i, img[r4[0]:r4[1], r4[2]:r4[3]])\n",
    "    i += 1\n",
    "    cv2.imwrite(OUT_DIR + 'getal%05d.jpg' % i, img[r5[0]:r5[1], r5[2]:r5[3]])\n",
    "    i += 1\n",
    "    cv2.imwrite(OUT_DIR + 'getal%05d.jpg' % i, img[r6[0]:r6[1], r6[2]:r6[3]])\n",
    "    i += 1\n",
    "    cv2.imwrite(OUT_DIR + 'getal%05d.jpg' % i, img[r7[0]:r7[1], r7[2]:r7[3]])\n",
    "    i += 1\n",
    "    cv2.imwrite(OUT_DIR + 'getal%05d.jpg' % i, img[r8[0]:r8[1], r8[2]:r8[3]])\n",
    "    i += 1"
   ]
  },
  {
   "cell_type": "markdown",
   "metadata": {},
   "source": [
    "#### Stap 3 - Trainen Tensorflow neuraal netwerk met standaard MNIST dataset\n",
    "\n",
    "Je kunt Tensorflow eenvoudig trainen op de standaard MNIST dataset. Deze behaalt o.b.v. een groot aantal handgeschreven getallen een nauwkeurigheid van ruim 99%. De vraag is echter of die ook werkt op onze dataset.\n",
    "\n",
    "**NB** De code voor het bouwen van het model is opgenomen in het script [build_model.py](build_model.py)\n",
    "\n",
    "We trainen de dataset en schrijven die weg in de models directory (let op, duurt ca 3 minuten op een i7 met GTX1070)"
   ]
  },
  {
   "cell_type": "code",
   "execution_count": 4,
   "metadata": {},
   "outputs": [
    {
     "name": "stdout",
     "output_type": "stream",
     "text": [
      "Successfully downloaded train-images-idx3-ubyte.gz 9912422 bytes.\n",
      "Extracting MNIST_data/train-images-idx3-ubyte.gz\n",
      "Successfully downloaded train-labels-idx1-ubyte.gz 28881 bytes.\n",
      "Extracting MNIST_data/train-labels-idx1-ubyte.gz\n",
      "Successfully downloaded t10k-images-idx3-ubyte.gz 1648877 bytes.\n",
      "Extracting MNIST_data/t10k-images-idx3-ubyte.gz\n",
      "Successfully downloaded t10k-labels-idx1-ubyte.gz 4542 bytes.\n",
      "Extracting MNIST_data/t10k-labels-idx1-ubyte.gz\n",
      "step 0, training accuracy 0.06\n",
      "step 2000, training accuracy 0.98\n",
      "step 4000, training accuracy 0.96\n",
      "step 6000, training accuracy 1\n",
      "step 8000, training accuracy 0.99\n",
      "step 10000, training accuracy 1\n",
      "step 12000, training accuracy 1\n",
      "step 14000, training accuracy 1\n",
      "step 16000, training accuracy 1\n",
      "step 18000, training accuracy 1\n",
      "test accuracy 0.9919\n",
      "Model saved in file:  models/tfmodel.ckpt\n"
     ]
    }
   ],
   "source": [
    "import build_model\n",
    "build_model.execute()"
   ]
  },
  {
   "cell_type": "markdown",
   "metadata": {},
   "source": [
    "#### Stap 4 - Testen van TF model op onze data\n",
    "\n",
    "We gaan het nieuwe model testen op onze data. Hiertoe wordt het model geladen en gebruiken we het op een aantal testdata.\n",
    "\n",
    "**NB** De code voor het laden van het model is opgenomen in het script [load_model.py](load_model.py)\n",
    "\n",
    "We lezen 10 random afbeeldingen uit de testdata en kijken wat ons model voorspelt."
   ]
  },
  {
   "cell_type": "code",
   "execution_count": 3,
   "metadata": {},
   "outputs": [],
   "source": [
    "import glob\n",
    "import os\n",
    "import random\n",
    "import matplotlib.image as mpimg\n",
    "import matplotlib.pyplot as plt\n",
    "\n",
    "import load_model\n",
    "\n",
    "os.environ['TF_CPP_MIN_LOG_LEVEL'] = '3' \n",
    "\n",
    "%matplotlib inline"
   ]
  },
  {
   "cell_type": "code",
   "execution_count": 4,
   "metadata": {},
   "outputs": [],
   "source": [
    "all_testfiles = [filename for filename in glob.iglob('data/getallen/test/*/*.jpg', recursive=True)]\n",
    "random.shuffle(all_testfiles)"
   ]
  },
  {
   "cell_type": "code",
   "execution_count": 5,
   "metadata": {},
   "outputs": [
    {
     "name": "stdout",
     "output_type": "stream",
     "text": [
      "INFO:tensorflow:Restoring parameters from ./models/tfmodel.ckpt\n"
     ]
    },
    {
     "name": "stderr",
     "output_type": "stream",
     "text": [
      "/home/breinbaas/programmeren/envs/dlnd/lib/python3.5/site-packages/skimage/transform/_warps.py:84: UserWarning: The default mode, 'constant', will be changed to 'reflect' in skimage 0.15.\n",
      "  warn(\"The default mode, 'constant', will be changed to 'reflect' in \"\n",
      "INFO:tensorflow:Restoring parameters from ./models/tfmodel.ckpt\n"
     ]
    },
    {
     "name": "stdout",
     "output_type": "stream",
     "text": [
      "INFO:tensorflow:Restoring parameters from ./models/tfmodel.ckpt\n"
     ]
    },
    {
     "name": "stderr",
     "output_type": "stream",
     "text": [
      "INFO:tensorflow:Restoring parameters from ./models/tfmodel.ckpt\n"
     ]
    },
    {
     "name": "stdout",
     "output_type": "stream",
     "text": [
      "INFO:tensorflow:Restoring parameters from ./models/tfmodel.ckpt\n"
     ]
    },
    {
     "name": "stderr",
     "output_type": "stream",
     "text": [
      "INFO:tensorflow:Restoring parameters from ./models/tfmodel.ckpt\n"
     ]
    },
    {
     "name": "stdout",
     "output_type": "stream",
     "text": [
      "INFO:tensorflow:Restoring parameters from ./models/tfmodel.ckpt\n"
     ]
    },
    {
     "name": "stderr",
     "output_type": "stream",
     "text": [
      "INFO:tensorflow:Restoring parameters from ./models/tfmodel.ckpt\n"
     ]
    },
    {
     "name": "stdout",
     "output_type": "stream",
     "text": [
      "INFO:tensorflow:Restoring parameters from ./models/tfmodel.ckpt\n"
     ]
    },
    {
     "name": "stderr",
     "output_type": "stream",
     "text": [
      "INFO:tensorflow:Restoring parameters from ./models/tfmodel.ckpt\n"
     ]
    },
    {
     "name": "stdout",
     "output_type": "stream",
     "text": [
      "INFO:tensorflow:Restoring parameters from ./models/tfmodel.ckpt\n"
     ]
    },
    {
     "name": "stderr",
     "output_type": "stream",
     "text": [
      "INFO:tensorflow:Restoring parameters from ./models/tfmodel.ckpt\n"
     ]
    },
    {
     "name": "stdout",
     "output_type": "stream",
     "text": [
      "INFO:tensorflow:Restoring parameters from ./models/tfmodel.ckpt\n"
     ]
    },
    {
     "name": "stderr",
     "output_type": "stream",
     "text": [
      "INFO:tensorflow:Restoring parameters from ./models/tfmodel.ckpt\n"
     ]
    },
    {
     "name": "stdout",
     "output_type": "stream",
     "text": [
      "INFO:tensorflow:Restoring parameters from ./models/tfmodel.ckpt\n"
     ]
    },
    {
     "name": "stderr",
     "output_type": "stream",
     "text": [
      "INFO:tensorflow:Restoring parameters from ./models/tfmodel.ckpt\n"
     ]
    },
    {
     "name": "stdout",
     "output_type": "stream",
     "text": [
      "INFO:tensorflow:Restoring parameters from ./models/tfmodel.ckpt\n"
     ]
    },
    {
     "name": "stderr",
     "output_type": "stream",
     "text": [
      "INFO:tensorflow:Restoring parameters from ./models/tfmodel.ckpt\n"
     ]
    },
    {
     "name": "stdout",
     "output_type": "stream",
     "text": [
      "INFO:tensorflow:Restoring parameters from ./models/tfmodel.ckpt\n"
     ]
    },
    {
     "name": "stderr",
     "output_type": "stream",
     "text": [
      "INFO:tensorflow:Restoring parameters from ./models/tfmodel.ckpt\n"
     ]
    },
    {
     "data": {
      "image/png": "[encoded data removed]",
      "text/plain": [
       "<matplotlib.figure.Figure at 0x7f7b795adc18>"
      ]
     },
     "metadata": {},
     "output_type": "display_data"
    }
   ],
   "source": [
    "images = []\n",
    "labels = []\n",
    "for i in range(0, 10):\n",
    "    images.append(mpimg.imread(all_testfiles[i]))\n",
    "    labels.append(load_model.predict(all_testfiles[i]))\n",
    "    \n",
    "plt.figure(figsize=(20,10))\n",
    "columns = 10\n",
    "for i, image in enumerate(images):    \n",
    "    plt.subplot(len(images) / columns + 1, columns, i + 1)\n",
    "    plt.title(labels[i])\n",
    "    plt.imshow(image)"
   ]
  },
  {
   "cell_type": "markdown",
   "metadata": {},
   "source": [
    "Dat is een slechte score want alles wordt gelabeld als het getal 1. We controleren even of het model echt wel goed is door een paar getallen uit de MNIST database in te voeren."
   ]
  },
  {
   "cell_type": "code",
   "execution_count": 6,
   "metadata": {},
   "outputs": [
    {
     "name": "stdout",
     "output_type": "stream",
     "text": [
      "INFO:tensorflow:Restoring parameters from ./models/tfmodel.ckpt\n"
     ]
    },
    {
     "name": "stderr",
     "output_type": "stream",
     "text": [
      "/home/breinbaas/programmeren/envs/dlnd/lib/python3.5/site-packages/skimage/transform/_warps.py:84: UserWarning: The default mode, 'constant', will be changed to 'reflect' in skimage 0.15.\n",
      "  warn(\"The default mode, 'constant', will be changed to 'reflect' in \"\n",
      "INFO:tensorflow:Restoring parameters from ./models/tfmodel.ckpt\n"
     ]
    },
    {
     "name": "stdout",
     "output_type": "stream",
     "text": [
      "INFO:tensorflow:Restoring parameters from ./models/tfmodel.ckpt\n"
     ]
    },
    {
     "name": "stderr",
     "output_type": "stream",
     "text": [
      "INFO:tensorflow:Restoring parameters from ./models/tfmodel.ckpt\n"
     ]
    },
    {
     "name": "stdout",
     "output_type": "stream",
     "text": [
      "INFO:tensorflow:Restoring parameters from ./models/tfmodel.ckpt\n"
     ]
    },
    {
     "name": "stderr",
     "output_type": "stream",
     "text": [
      "INFO:tensorflow:Restoring parameters from ./models/tfmodel.ckpt\n"
     ]
    },
    {
     "name": "stdout",
     "output_type": "stream",
     "text": [
      "INFO:tensorflow:Restoring parameters from ./models/tfmodel.ckpt\n"
     ]
    },
    {
     "name": "stderr",
     "output_type": "stream",
     "text": [
      "INFO:tensorflow:Restoring parameters from ./models/tfmodel.ckpt\n"
     ]
    },
    {
     "data": {
      "image/png": "[encoded data removed]",
      "text/plain": [
       "<matplotlib.figure.Figure at 0x7f7b78f39ac8>"
      ]
     },
     "metadata": {},
     "output_type": "display_data"
    }
   ],
   "source": [
    "mnist_testfiles = glob.glob('data/mnist/*.png')\n",
    "\n",
    "images = []\n",
    "labels = []\n",
    "for i in range(len(mnist_testfiles)):\n",
    "    images.append(mpimg.imread(mnist_testfiles[i]))\n",
    "    labels.append(load_model.predict(mnist_testfiles[i]))\n",
    "    \n",
    "plt.figure(figsize=(20,10))\n",
    "columns = 10\n",
    "for i, image in enumerate(images):    \n",
    "    plt.subplot(len(images) / columns + 1, columns, i + 1)\n",
    "    plt.title(labels[i])\n",
    "    plt.imshow(image)"
   ]
  },
  {
   "cell_type": "markdown",
   "metadata": {},
   "source": [
    "Het model voorspelt prima op basis van de MNIST data want alle labels kloppen.\n",
    "\n",
    "Helaas, het MNIST model is niet geschikt voor onze doeleinden. We zullen zelf een diep netwerk moeten bouwen.\n",
    "\n",
    "**NB** We hadden ook kunnen kijken of we de afbeeldingen via opencv niet met wat filters kunnen bewerken door bv thresholds in te stellen maar na wat uitproberen bleek dit niet de gewenste nauwkeurigheid te halen.\n",
    "\n",
    "#### Stap 5 - Eigen diep neuraal netwerk bouwen en trainen \n",
    "\n",
    "Wat we met MNIST data kunnen we ook met onze eigen gegevens. We bouwen een CNN met dezelfde opbouw als die voor de MNIST data maar voeden onze eigen afbeeldingen.\n",
    "\n",
    "De code voor dit model staat in [wsmodel.py](wsmodel.py)"
   ]
  },
  {
   "cell_type": "code",
   "execution_count": 1,
   "metadata": {},
   "outputs": [
    {
     "name": "stderr",
     "output_type": "stream",
     "text": [
      "/home/breinbaas/programmeren/envs/dlnd/lib/python3.5/site-packages/skimage/transform/_warps.py:84: UserWarning: The default mode, 'constant', will be changed to 'reflect' in skimage 0.15.\n",
      "  warn(\"The default mode, 'constant', will be changed to 'reflect' in \"\n"
     ]
    },
    {
     "name": "stdout",
     "output_type": "stream",
     "text": [
      "(679, 784)\n",
      "(679, 10)\n",
      "step 0, training accuracy 0.0368189\n",
      "step 100, training accuracy 0.852725\n",
      "step 200, training accuracy 0.949926\n",
      "step 300, training accuracy 0.974963\n",
      "step 400, training accuracy 0.988218\n",
      "step 500, training accuracy 0.992636\n",
      "step 600, training accuracy 0.994109\n",
      "step 700, training accuracy 0.995582\n",
      "step 800, training accuracy 0.995582\n",
      "step 900, training accuracy 0.995582\n",
      "step 1000, training accuracy 0.995582\n",
      "step 1100, training accuracy 0.995582\n",
      "step 1200, training accuracy 0.995582\n",
      "step 1300, training accuracy 0.995582\n",
      "step 1400, training accuracy 0.995582\n",
      "step 1500, training accuracy 0.995582\n",
      "step 1600, training accuracy 0.995582\n",
      "step 1700, training accuracy 0.995582\n",
      "step 1800, training accuracy 0.995582\n",
      "step 1900, training accuracy 0.995582\n",
      "test accuracy 0.958209\n",
      "Model saved in file:  models/wsmodel.ckpt\n"
     ]
    }
   ],
   "source": [
    "import wsmodel\n",
    "\n",
    "wsmodel.build()"
   ]
  },
  {
   "cell_type": "code",
   "execution_count": 7,
   "metadata": {},
   "outputs": [
    {
     "name": "stdout",
     "output_type": "stream",
     "text": [
      "INFO:tensorflow:Restoring parameters from ./models/wsmodel.ckpt\n"
     ]
    },
    {
     "name": "stderr",
     "output_type": "stream",
     "text": [
      "/home/breinbaas/programmeren/envs/dlnd/lib/python3.5/site-packages/skimage/transform/_warps.py:84: UserWarning: The default mode, 'constant', will be changed to 'reflect' in skimage 0.15.\n",
      "  warn(\"The default mode, 'constant', will be changed to 'reflect' in \"\n",
      "INFO:tensorflow:Restoring parameters from ./models/wsmodel.ckpt\n"
     ]
    },
    {
     "name": "stdout",
     "output_type": "stream",
     "text": [
      "INFO:tensorflow:Restoring parameters from ./models/wsmodel.ckpt\n"
     ]
    },
    {
     "name": "stderr",
     "output_type": "stream",
     "text": [
      "INFO:tensorflow:Restoring parameters from ./models/wsmodel.ckpt\n"
     ]
    },
    {
     "name": "stdout",
     "output_type": "stream",
     "text": [
      "INFO:tensorflow:Restoring parameters from ./models/wsmodel.ckpt\n"
     ]
    },
    {
     "name": "stderr",
     "output_type": "stream",
     "text": [
      "INFO:tensorflow:Restoring parameters from ./models/wsmodel.ckpt\n"
     ]
    },
    {
     "name": "stdout",
     "output_type": "stream",
     "text": [
      "INFO:tensorflow:Restoring parameters from ./models/wsmodel.ckpt\n"
     ]
    },
    {
     "name": "stderr",
     "output_type": "stream",
     "text": [
      "INFO:tensorflow:Restoring parameters from ./models/wsmodel.ckpt\n"
     ]
    },
    {
     "name": "stdout",
     "output_type": "stream",
     "text": [
      "INFO:tensorflow:Restoring parameters from ./models/wsmodel.ckpt\n"
     ]
    },
    {
     "name": "stderr",
     "output_type": "stream",
     "text": [
      "INFO:tensorflow:Restoring parameters from ./models/wsmodel.ckpt\n"
     ]
    },
    {
     "name": "stdout",
     "output_type": "stream",
     "text": [
      "INFO:tensorflow:Restoring parameters from ./models/wsmodel.ckpt\n"
     ]
    },
    {
     "name": "stderr",
     "output_type": "stream",
     "text": [
      "INFO:tensorflow:Restoring parameters from ./models/wsmodel.ckpt\n"
     ]
    },
    {
     "name": "stdout",
     "output_type": "stream",
     "text": [
      "INFO:tensorflow:Restoring parameters from ./models/wsmodel.ckpt\n"
     ]
    },
    {
     "name": "stderr",
     "output_type": "stream",
     "text": [
      "INFO:tensorflow:Restoring parameters from ./models/wsmodel.ckpt\n"
     ]
    },
    {
     "name": "stdout",
     "output_type": "stream",
     "text": [
      "INFO:tensorflow:Restoring parameters from ./models/wsmodel.ckpt\n"
     ]
    },
    {
     "name": "stderr",
     "output_type": "stream",
     "text": [
      "INFO:tensorflow:Restoring parameters from ./models/wsmodel.ckpt\n"
     ]
    },
    {
     "name": "stdout",
     "output_type": "stream",
     "text": [
      "INFO:tensorflow:Restoring parameters from ./models/wsmodel.ckpt\n"
     ]
    },
    {
     "name": "stderr",
     "output_type": "stream",
     "text": [
      "INFO:tensorflow:Restoring parameters from ./models/wsmodel.ckpt\n"
     ]
    },
    {
     "name": "stdout",
     "output_type": "stream",
     "text": [
      "INFO:tensorflow:Restoring parameters from ./models/wsmodel.ckpt\n"
     ]
    },
    {
     "name": "stderr",
     "output_type": "stream",
     "text": [
      "INFO:tensorflow:Restoring parameters from ./models/wsmodel.ckpt\n"
     ]
    },
    {
     "data": {
      "image/png": "[encoded data removed]",
      "text/plain": [
       "<matplotlib.figure.Figure at 0x7f7b79e6f390>"
      ]
     },
     "metadata": {},
     "output_type": "display_data"
    }
   ],
   "source": [
    "import wspredict\n",
    "\n",
    "images = []\n",
    "labels = []\n",
    "for i in range(0, 10):\n",
    "    images.append(mpimg.imread(all_testfiles[i]))\n",
    "    labels.append(wspredict.predict(all_testfiles[i]))\n",
    "    \n",
    "plt.figure(figsize=(20,10))\n",
    "columns = 10\n",
    "for i, image in enumerate(images):    \n",
    "    plt.subplot(len(images) / columns + 1, columns, i + 1)\n",
    "    plt.title(labels[i])\n",
    "    plt.imshow(image)"
   ]
  },
  {
   "cell_type": "markdown",
   "metadata": {},
   "source": [
    "Zoals aan de labels boven de afbeeldingen te zien is is de nauwkeurigheid al erg goed. Afwijkingen kunnen geconstateerd worden door tijdsafhankelijke waarnemeningen met elkaar te vergelijken en de grote deltas te loggen.\n",
    "\n",
    "### Conclusie\n",
    "\n",
    "Het is mogelijk om met een CNN en de voorgestelde werkwijze de waterstanden uit timelapse video's uit te lezen. \n",
    "\n",
    "#### Todo\n",
    "\n",
    "* code netjes maken (te quick and dirty nu)\n",
    "* het model lijkt wat te overfitten dus wellicht naar dropout layer kijken\n",
    "* verdere optimalisatie (op naar de 99% zou ik zeggen)\n",
    "* de dataset is skewed.. kijk maar naar de verdeling tussen 0 t/m 9, meer traindata verzamelen waar we info missen\n",
    "* uitwerken naar een productie omgeving"
   ]
  },
  {
   "cell_type": "code",
   "execution_count": null,
   "metadata": {},
   "outputs": [],
   "source": []
  }
 ],
 "metadata": {
  "kernelspec": {
   "display_name": "Python 3",
   "language": "python",
   "name": "python3"
  },
  "language_info": {
   "codemirror_mode": {
    "name": "ipython",
    "version": 3
   },
   "file_extension": ".py",
   "mimetype": "text/x-python",
   "name": "python",
   "nbconvert_exporter": "python",
   "pygments_lexer": "ipython3",
   "version": "3.5.2"
  }
 },
 "nbformat": 4,
 "nbformat_minor": 2
}
